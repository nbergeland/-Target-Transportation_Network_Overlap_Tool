{
 "cells": [
  {
   "cell_type": "code",
   "execution_count": 32,
   "id": "5393d064",
   "metadata": {},
   "outputs": [],
   "source": [
    "import pandas as pd\n",
    "import numpy as np\n",
    "import plotly.express as px\n",
    "import plotly.graph_objects as go\n",
    "import plotly.io as pio\n",
    "import plotly.figure_factory as ff\n",
    "import plotly.offline as pyo\n",
    "\n"
   ]
  },
  {
   "cell_type": "code",
   "execution_count": 33,
   "id": "3d95209f",
   "metadata": {},
   "outputs": [
    {
     "name": "stdout",
     "output_type": "stream",
     "text": [
      "Index(['Facility T-Loc', 'Faciliy -Loc', 'Cleanup', 'Alternate ID(s)'], dtype='object')\n"
     ]
    }
   ],
   "source": [
    "# read both excel files\n",
    "df1 = pd.read_excel('Origin-Destination Guide DFM.xlsx')\n",
    "#df2 = pd.read_excel('cwyh.xlsx')\n",
    "\n",
    "# Check column names in df1\n",
    "print(df1.columns)\n",
    "\n",
    "# Check column names in df2\n",
    "#print(df2.columns)\n"
   ]
  },
  {
   "cell_type": "code",
   "execution_count": 34,
   "id": "f7c1844a",
   "metadata": {},
   "outputs": [],
   "source": [
    "# Perform the join\n",
    "#df3 = df1.join(df2)"
   ]
  },
  {
   "cell_type": "code",
   "execution_count": 35,
   "id": "bc331bf0",
   "metadata": {},
   "outputs": [
    {
     "data": {
      "text/html": [
       "<div>\n",
       "<style scoped>\n",
       "    .dataframe tbody tr th:only-of-type {\n",
       "        vertical-align: middle;\n",
       "    }\n",
       "\n",
       "    .dataframe tbody tr th {\n",
       "        vertical-align: top;\n",
       "    }\n",
       "\n",
       "    .dataframe thead th {\n",
       "        text-align: right;\n",
       "    }\n",
       "</style>\n",
       "<table border=\"1\" class=\"dataframe\">\n",
       "  <thead>\n",
       "    <tr style=\"text-align: right;\">\n",
       "      <th></th>\n",
       "      <th>Unnamed: 0</th>\n",
       "      <th>3-digit Zip</th>\n",
       "      <th>Market Area ID</th>\n",
       "      <th>Market Area Name</th>\n",
       "      <th>Reference City</th>\n",
       "      <th>Reference State/Prov.</th>\n",
       "      <th>Region</th>\n",
       "      <th>Assume Zip for KMA</th>\n",
       "    </tr>\n",
       "  </thead>\n",
       "  <tbody>\n",
       "    <tr>\n",
       "      <th>0</th>\n",
       "      <td>NaN</td>\n",
       "      <td>005</td>\n",
       "      <td>NY_BRN</td>\n",
       "      <td>Brooklyn Mkt</td>\n",
       "      <td>Brooklyn</td>\n",
       "      <td>NY</td>\n",
       "      <td>Northeast</td>\n",
       "      <td>11747</td>\n",
       "    </tr>\n",
       "    <tr>\n",
       "      <th>1</th>\n",
       "      <td>NaN</td>\n",
       "      <td>010</td>\n",
       "      <td>MA_SPR</td>\n",
       "      <td>Springfield Mkt</td>\n",
       "      <td>Springfield</td>\n",
       "      <td>MA</td>\n",
       "      <td>Northeast</td>\n",
       "      <td>01373</td>\n",
       "    </tr>\n",
       "    <tr>\n",
       "      <th>2</th>\n",
       "      <td>NaN</td>\n",
       "      <td>011</td>\n",
       "      <td>MA_SPR</td>\n",
       "      <td>Springfield Mkt</td>\n",
       "      <td>Springfield</td>\n",
       "      <td>MA</td>\n",
       "      <td>Northeast</td>\n",
       "      <td>01373</td>\n",
       "    </tr>\n",
       "    <tr>\n",
       "      <th>3</th>\n",
       "      <td>NaN</td>\n",
       "      <td>012</td>\n",
       "      <td>MA_SPR</td>\n",
       "      <td>Springfield Mkt</td>\n",
       "      <td>Springfield</td>\n",
       "      <td>MA</td>\n",
       "      <td>Northeast</td>\n",
       "      <td>01373</td>\n",
       "    </tr>\n",
       "    <tr>\n",
       "      <th>4</th>\n",
       "      <td>NaN</td>\n",
       "      <td>013</td>\n",
       "      <td>MA_SPR</td>\n",
       "      <td>Springfield Mkt</td>\n",
       "      <td>Springfield</td>\n",
       "      <td>MA</td>\n",
       "      <td>Northeast</td>\n",
       "      <td>01373</td>\n",
       "    </tr>\n",
       "  </tbody>\n",
       "</table>\n",
       "</div>"
      ],
      "text/plain": [
       "   Unnamed: 0 3-digit Zip Market Area ID Market Area Name Reference City  \\\n",
       "0         NaN         005         NY_BRN     Brooklyn Mkt       Brooklyn   \n",
       "1         NaN         010         MA_SPR  Springfield Mkt    Springfield   \n",
       "2         NaN         011         MA_SPR  Springfield Mkt    Springfield   \n",
       "3         NaN         012         MA_SPR  Springfield Mkt    Springfield   \n",
       "4         NaN         013         MA_SPR  Springfield Mkt    Springfield   \n",
       "\n",
       "  Reference State/Prov.     Region Assume Zip for KMA  \n",
       "0                    NY  Northeast              11747  \n",
       "1                    MA  Northeast              01373  \n",
       "2                    MA  Northeast              01373  \n",
       "3                    MA  Northeast              01373  \n",
       "4                    MA  Northeast              01373  "
      ]
     },
     "execution_count": 35,
     "metadata": {},
     "output_type": "execute_result"
    }
   ],
   "source": [
    "df.head()"
   ]
  },
  {
   "cell_type": "code",
   "execution_count": 37,
   "id": "1e70904c",
   "metadata": {},
   "outputs": [
    {
     "name": "stdout",
     "output_type": "stream",
     "text": [
      "None\n"
     ]
    }
   ],
   "source": [
    "# read excel file\n",
    "df = pd.read_excel('KMA.xlsx')\n",
    "#cwyh = pd.read_excel('cwyh.xlsx')\n",
    "#col_var = cwyh['zip']\n",
    "\n",
    "# function to return value from column C based on value in column B\n",
    "def get_value_from_column_c(col_var):\n",
    "    matching_row = df[df['3-digit Zip'] == col_var] # assuming '3-digit Zip' is the column name\n",
    "    if len(matching_row) > 0:\n",
    "        return matching_row['Market Area ID'].values[0] # again assuming 'Market Area ID' is the column name\n",
    "    else:\n",
    "        return None\n",
    "\n",
    "# testing\n",
    "print(get_value_from_column_c('907'))"
   ]
  },
  {
   "cell_type": "code",
   "execution_count": null,
   "id": "5012a5f4",
   "metadata": {},
   "outputs": [],
   "source": [
    "#print(get_value_from_column_c(,431,730,604,130,109,795,331,770,926,178,072,373,952,313,314'))\n",
    "print(get_value_from_column_c('917'),\n",
    "print(get_value_from_column_c('071'),\n",
    "print(get_value_from_column_c('907'),\n",
    "print(get_value_from_column_c('151'),\n",
    "print(get_value_from_column_c('834'),\n",
    "print(get_value_from_column_c('241'),\n",
    "print(get_value_from_column_c('856'),\n",
    "print(get_value_from_column_c('923'),\n",
    "print(get_value_from_column_c('370'),\n",
    "#print(get_value_from_column_c\n",
    "#print(get_value_from_column_c\n",
    "#print(get_value_from_column_c\n",
    "#print(get_value_from_column_c\n",
    "#print(get_value_from_column_c\n",
    "#print(get_value_from_column_c\n",
    "#print(get_value_from_column_c\n",
    "#print(get_value_from_column_c\n",
    "#print(get_value_from_column_c\n",
    "#print(get_value_from_column_c\n",
    "#print(get_value_from_column_c\n",
    "#print(get_value_from_column_c\n",
    "#print(get_value_from_column_c\n",
    "#print(get_value_from_column_c('953')"
   ]
  }
 ],
 "metadata": {
  "kernelspec": {
   "display_name": "Python 3 (ipykernel)",
   "language": "python",
   "name": "python3"
  },
  "language_info": {
   "codemirror_mode": {
    "name": "ipython",
    "version": 3
   },
   "file_extension": ".py",
   "mimetype": "text/x-python",
   "name": "python",
   "nbconvert_exporter": "python",
   "pygments_lexer": "ipython3",
   "version": "3.9.7"
  }
 },
 "nbformat": 4,
 "nbformat_minor": 5
}
